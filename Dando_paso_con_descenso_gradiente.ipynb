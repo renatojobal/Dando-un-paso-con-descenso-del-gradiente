{
  "nbformat": 4,
  "nbformat_minor": 0,
  "metadata": {
    "colab": {
      "name": "Dando_paso_con_descenso_gradiente.ipynb",
      "provenance": [],
      "authorship_tag": "ABX9TyNPSEG4VA8Smp59Qi0QCH6+",
      "include_colab_link": true
    },
    "kernelspec": {
      "name": "python3",
      "display_name": "Python 3"
    }
  },
  "cells": [
    {
      "cell_type": "markdown",
      "metadata": {
        "id": "view-in-github",
        "colab_type": "text"
      },
      "source": [
        "<a href=\"https://colab.research.google.com/github/renatojobal/Dando-un-paso-con-descenso-del-gradiente/blob/master/Dando_paso_con_descenso_gradiente.ipynb\" target=\"_parent\"><img src=\"https://colab.research.google.com/assets/colab-badge.svg\" alt=\"Open In Colab\"/></a>"
      ]
    },
    {
      "cell_type": "code",
      "metadata": {
        "id": "gdA4OylUWrx7",
        "colab_type": "code",
        "colab": {}
      },
      "source": [
        "# Librerias necesarias\n",
        "import numpy as np\n",
        "import scipy as sc\n",
        "import matplotlib.pyplot as plt\n",
        "\n"
      ],
      "execution_count": 0,
      "outputs": []
    },
    {
      "cell_type": "code",
      "metadata": {
        "id": "YVQwL2pzXTNC",
        "colab_type": "code",
        "colab": {}
      },
      "source": [
        "# Tenemos la funcion:\n",
        "# y = (x^2/2)\n",
        "\n",
        "def y(x):\n",
        "  return ((x**2)/2)"
      ],
      "execution_count": 0,
      "outputs": []
    },
    {
      "cell_type": "code",
      "metadata": {
        "id": "7DouYW4IXyPL",
        "colab_type": "code",
        "outputId": "634af73b-95c1-4582-d4fb-7a297cf63bac",
        "colab": {
          "base_uri": "https://localhost:8080/",
          "height": 269
        }
      },
      "source": [
        "# La graficamos\n",
        "x = range(-4, 4)\n",
        "\n",
        "# Linea de la funcion\n",
        "plt.plot(x, [y(i) for i in x])\n",
        "\n",
        "# Establecer el color de los ejes.\n",
        "plt.axhline(0, color=\"black\")\n",
        "plt.axvline(0, color=\"black\")\n",
        "\n",
        "# Limitar los valores de los ejes.\n",
        "plt.xlim(-4, 4)\n",
        "plt.ylim(-4, 4)\n",
        "\n",
        "# Ponerle una grilla\n",
        "plt.grid()\n",
        "\n",
        "\n",
        "# Mostrarlo\n",
        "plt.show()"
      ],
      "execution_count": 0,
      "outputs": [
        {
          "output_type": "display_data",
          "data": {
            "image/png": "[encoded data removed]",
            "text/plain": [
              "<Figure size 432x288 with 1 Axes>"
            ]
          },
          "metadata": {
            "tags": []
          }
        }
      ]
    },
    {
      "cell_type": "code",
      "metadata": {
        "id": "fmUenJfGdWKV",
        "colab_type": "code",
        "outputId": "b68abad9-0995-48f3-fe8a-eeb6122823e3",
        "colab": {
          "base_uri": "https://localhost:8080/",
          "height": 252
        }
      },
      "source": [
        "# Ahora vamos a escoger un punto cualquiera de la gráfica\n",
        "# como punto de partida\n",
        "\n",
        "\n",
        "# La graficamos\n",
        "x = range(-8, 8)\n",
        "\n",
        "# Linea de la funcion\n",
        "plt.plot(x, [y(i) for i in x], 1)\n",
        "\n",
        "# Establecer el color de los ejes.\n",
        "plt.axhline(0, color=\"black\")\n",
        "plt.axvline(0, color=\"black\")\n",
        "\n",
        "# Limitar los valores de los ejes.\n",
        "plt.xlim(-8, 8)\n",
        "plt.ylim(-2, 14)\n",
        "\n",
        "# Ponerle una grilla\n",
        "plt.grid()\n",
        "\n",
        "# Ponemos el punto\n",
        "plt.plot(3, y(3), marker=\"o\", c=\"red\")\n",
        "plt.xlim(-8 * 1.1, 8 * 1.1)\n",
        "plt.ylim(-2 * 1.1, 14 * 1.1)\n",
        "\n",
        "\n",
        "ax = plt.gca()  # gca stands for 'get current axis'\n",
        "ax.spines['right'].set_color('none')\n",
        "ax.spines['top'].set_color('none')\n",
        "ax.xaxis.set_ticks_position('bottom')\n",
        "ax.spines['bottom'].set_position(('data',0))\n",
        "ax.yaxis.set_ticks_position('left')\n",
        "ax.spines['left'].set_position(('data',0))\n",
        "\n",
        "plt.show()"
      ],
      "execution_count": 0,
      "outputs": [
        {
          "output_type": "display_data",
          "data": {
            "image/png": "[encoded data removed]",
            "text/plain": [
              "<Figure size 432x288 with 1 Axes>"
            ]
          },
          "metadata": {
            "tags": []
          }
        }
      ]
    },
    {
      "cell_type": "code",
      "metadata": {
        "id": "cv5IkIA1iogG",
        "colab_type": "code",
        "outputId": "72a11adf-4b9c-4e4f-f59e-f46600ff3460",
        "colab": {
          "base_uri": "https://localhost:8080/",
          "height": 34
        }
      },
      "source": [
        "# Ahora calculamos el gradiente de la recta en ese punto\n",
        "# para saber la pendiente.\n",
        "# Recordemos que lo que queremos es bajar\n",
        "\n",
        "# Calculamos el gradiente, o derivada, o pendiente jeje\n",
        "# Derivada de (x**2)/2) es (x)\n",
        "\n",
        "def y_derivada(x):\n",
        "  return x\n",
        "\n",
        "# Pasamos el punto por la derivada\n",
        "pendiente = y_derivada(3)\n",
        "print(pendiente)"
      ],
      "execution_count": 0,
      "outputs": [
        {
          "output_type": "stream",
          "text": [
            "3\n"
          ],
          "name": "stdout"
        }
      ]
    },
    {
      "cell_type": "code",
      "metadata": {
        "id": "n-vFAcusjW5c",
        "colab_type": "code",
        "outputId": "ca8a10b2-8404-43fd-e2c3-ab796bdbb275",
        "colab": {
          "base_uri": "https://localhost:8080/",
          "height": 34
        }
      },
      "source": [
        "# Ahora tratamos de reducir ese n'umero dando un paso\n",
        "# en el sentido contrario, es decir, bajamos:\n",
        "lr = 0.5\n",
        "\n",
        "siguiente_punto = (3-(pendiente*lr))\n",
        "print(siguiente_punto) "
      ],
      "execution_count": 0,
      "outputs": [
        {
          "output_type": "stream",
          "text": [
            "1.5\n"
          ],
          "name": "stdout"
        }
      ]
    },
    {
      "cell_type": "code",
      "metadata": {
        "id": "TuHxqLq6jwnN",
        "colab_type": "code",
        "colab": {}
      },
      "source": [
        "# Así seguimos bajando"
      ],
      "execution_count": 0,
      "outputs": []
    }
  ]
}